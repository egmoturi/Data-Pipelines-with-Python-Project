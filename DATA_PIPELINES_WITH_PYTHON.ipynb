{
  "nbformat": 4,
  "nbformat_minor": 0,
  "metadata": {
    "colab": {
      "provenance": [],
      "include_colab_link": true
    },
    "kernelspec": {
      "name": "python3",
      "display_name": "Python 3"
    },
    "language_info": {
      "name": "python"
    }
  },
  "cells": [
    {
      "cell_type": "markdown",
      "metadata": {
        "id": "view-in-github",
        "colab_type": "text"
      },
      "source": [
        "<a href=\"https://colab.research.google.com/github/egmoturi/Data-Pipelines-with-Python-Project/blob/main/DATA_PIPELINES_WITH_PYTHON.ipynb\" target=\"_parent\"><img src=\"https://colab.research.google.com/assets/colab-badge.svg\" alt=\"Open In Colab\"/></a>"
      ]
    },
    {
      "cell_type": "code",
      "execution_count": 3,
      "metadata": {
        "id": "rD_e_1Yt1aE1"
      },
      "outputs": [],
      "source": [
        "import pandas as pd\n",
        "import numpy as np\n",
        "import datetime\n"
      ]
    },
    {
      "cell_type": "code",
      "source": [
        "#Reading the data.\n",
        "A = pd.read_csv('dataset1.csv')\n",
        "B = pd.read_csv('dataset2.csv')\n",
        "C = pd.read_csv('dataset3.csv')"
      ],
      "metadata": {
        "id": "k1Frx8pi5pkq"
      },
      "execution_count": 4,
      "outputs": []
    },
    {
      "cell_type": "markdown",
      "source": [
        "output the columns of the dataframes A, B, and C."
      ],
      "metadata": {
        "id": "iYMWHdWO74YG"
      }
    },
    {
      "cell_type": "code",
      "source": [
        "print(A.columns, B.columns, C.columns)"
      ],
      "metadata": {
        "colab": {
          "base_uri": "https://localhost:8080/"
        },
        "id": "Xpzjo-dH6nYi",
        "outputId": "fed86367-7447-4816-9170-64d59be0de8d"
      },
      "execution_count": 5,
      "outputs": [
        {
          "output_type": "stream",
          "name": "stdout",
          "text": [
            "Index(['customer_id', 'date_of_purchase', 'total_amount_billed',\n",
            "       'payment_status', 'payment_method', 'promo_code',\n",
            "       'country_of_purchase'],\n",
            "      dtype='object') Index(['customer_id', 'date_of_payment', 'amount_paid', 'payment_method',\n",
            "       'payment_status', 'late_payment_fee', 'country_of_payment'],\n",
            "      dtype='object') Index(['customer_id', 'date_of_refund', 'refund_amount', 'reason_for_refund',\n",
            "       'country_of_refund'],\n",
            "      dtype='object')\n"
          ]
        }
      ]
    },
    {
      "cell_type": "code",
      "source": [
        "# Removing the  missing values\n",
        "A = A.dropna()\n",
        "B = B.dropna()\n",
        "C = C.dropna()"
      ],
      "metadata": {
        "id": "ieAle3sm59bT"
      },
      "execution_count": 6,
      "outputs": []
    },
    {
      "cell_type": "code",
      "source": [
        "\n",
        "\n",
        "A['date_of_purchase'] = A['date_of_purchase'].apply(lambda x: datetime.datetime.strptime(x, '%m/%d/%Y'))\n",
        "B['date_of_payment'] = B['date_of_payment'].apply(lambda x: datetime.datetime.strptime(x, '%m/%d/%Y'))\n",
        "C['date_of_refund'] = C['date_of_refund'].apply(lambda x: datetime.datetime.strptime(x, '%m/%d/%Y'))\n",
        "\n"
      ],
      "metadata": {
        "id": "UxSQZsRz9PBy"
      },
      "execution_count": 7,
      "outputs": []
    },
    {
      "cell_type": "code",
      "source": [
        "print(A.columns.tolist())"
      ],
      "metadata": {
        "colab": {
          "base_uri": "https://localhost:8080/"
        },
        "id": "sRT3d8ov-ZLw",
        "outputId": "fbe921c6-a12d-4d7a-b518-8d5afbd4630c"
      },
      "execution_count": 8,
      "outputs": [
        {
          "output_type": "stream",
          "name": "stdout",
          "text": [
            "['customer_id', 'date_of_purchase', 'total_amount_billed', 'payment_status', 'payment_method', 'promo_code', 'country_of_purchase']\n"
          ]
        }
      ]
    },
    {
      "cell_type": "code",
      "source": [
        "print(B.columns.tolist())"
      ],
      "metadata": {
        "colab": {
          "base_uri": "https://localhost:8080/"
        },
        "id": "nJ0JLXnM-9WR",
        "outputId": "34365943-4344-470b-9988-43e91bd152db"
      },
      "execution_count": 9,
      "outputs": [
        {
          "output_type": "stream",
          "name": "stdout",
          "text": [
            "['customer_id', 'date_of_payment', 'amount_paid', 'payment_method', 'payment_status', 'late_payment_fee', 'country_of_payment']\n"
          ]
        }
      ]
    },
    {
      "cell_type": "code",
      "source": [
        "print(C.columns.tolist())"
      ],
      "metadata": {
        "colab": {
          "base_uri": "https://localhost:8080/"
        },
        "id": "wawQTtQ2_AnR",
        "outputId": "0c1f34dc-0bac-435c-edf5-450723228b1a"
      },
      "execution_count": 10,
      "outputs": [
        {
          "output_type": "stream",
          "name": "stdout",
          "text": [
            "['customer_id', 'date_of_refund', 'refund_amount', 'reason_for_refund', 'country_of_refund']\n"
          ]
        }
      ]
    },
    {
      "cell_type": "code",
      "source": [
        "# Converting the data types.\n",
        "A = A.astype({\"customer_id\": int, \"total_amount_billed\": float})\n",
        "B = B.astype({\"customer_id\": int, \"amount_paid\": float})\n",
        "C = C.astype({\"customer_id\": int, \"refund_amount\": float})\n",
        "\n",
        "A_grouped = A.groupby([\"customer_id\", \"date_of_purchase\", \"country_of_purchase\"]).sum().reset_index()\n",
        "B_grouped = B.groupby([\"customer_id\", \"date_of_payment\", \"country_of_payment\"]).sum().reset_index()\n",
        "C_filtered = C[C[\"reason_for_refund\"].notnull()].reset_index(drop=True)\n",
        "\n",
        "# Merge the dataframes into a single dataframe\n",
        "df_merged = A_grouped.merge(B_grouped, how=\"inner\", on=[\"customer_id\"])\n",
        "df_merged2 = df_merged.merge(C_filtered, how=\"inner\", on=[\"customer_id\"])\n",
        "\n",
        " "
      ],
      "metadata": {
        "id": "83oVzz3q-IWS"
      },
      "execution_count": 11,
      "outputs": []
    },
    {
      "cell_type": "code",
      "source": [
        "#Loading the data to a csv file\n",
        "df_merged2.to_csv('merged_dataset.csv', index=False)"
      ],
      "metadata": {
        "id": "H6H4Y9vLD9FZ"
      },
      "execution_count": 12,
      "outputs": []
    },
    {
      "cell_type": "code",
      "source": [
        "\n",
        "pip install apache-airflow"
      ],
      "metadata": {
        "colab": {
          "base_uri": "https://localhost:8080/"
        },
        "id": "fLVo3bedEZNR",
        "outputId": "ae36022c-abbd-4662-8883-7e6cde68870a"
      },
      "execution_count": 13,
      "outputs": [
        {
          "output_type": "stream",
          "name": "stdout",
          "text": [
            "Looking in indexes: https://pypi.org/simple, https://us-python.pkg.dev/colab-wheels/public/simple/\n",
            "Collecting apache-airflow\n",
            "  Downloading apache_airflow-2.5.3-py3-none-any.whl (11.6 MB)\n",
            "\u001b[2K     \u001b[90m━━━━━━━━━━━━━━━━━━━━━━━━━━━━━━━━━━━━━━━━\u001b[0m \u001b[32m11.6/11.6 MB\u001b[0m \u001b[31m81.4 MB/s\u001b[0m eta \u001b[36m0:00:00\u001b[0m\n",
            "\u001b[?25hCollecting setproctitle>=1.1.8\n",
            "  Downloading setproctitle-1.3.2-cp39-cp39-manylinux_2_5_x86_64.manylinux1_x86_64.manylinux_2_17_x86_64.manylinux2014_x86_64.whl (30 kB)\n",
            "Requirement already satisfied: graphviz>=0.12 in /usr/local/lib/python3.9/dist-packages (from apache-airflow) (0.20.1)\n",
            "Requirement already satisfied: python-dateutil>=2.3 in /usr/local/lib/python3.9/dist-packages (from apache-airflow) (2.8.2)\n",
            "Collecting configupdater>=3.1.1\n",
            "  Downloading ConfigUpdater-3.1.1-py2.py3-none-any.whl (34 kB)\n",
            "Requirement already satisfied: tabulate>=0.7.5 in /usr/local/lib/python3.9/dist-packages (from apache-airflow) (0.8.10)\n",
            "Requirement already satisfied: packaging>=14.0 in /usr/local/lib/python3.9/dist-packages (from apache-airflow) (23.0)\n",
            "Requirement already satisfied: termcolor>=1.1.0 in /usr/local/lib/python3.9/dist-packages (from apache-airflow) (2.2.0)\n",
            "Collecting rfc3339-validator>=0.1.4\n",
            "  Downloading rfc3339_validator-0.1.4-py2.py3-none-any.whl (3.5 kB)\n",
            "Collecting lazy-object-proxy\n",
            "  Downloading lazy_object_proxy-1.9.0-cp39-cp39-manylinux_2_5_x86_64.manylinux1_x86_64.manylinux_2_17_x86_64.manylinux2014_x86_64.whl (62 kB)\n",
            "\u001b[2K     \u001b[90m━━━━━━━━━━━━━━━━━━━━━━━━━━━━━━━━━━━━━━━━\u001b[0m \u001b[32m62.1/62.1 KB\u001b[0m \u001b[31m7.7 MB/s\u001b[0m eta \u001b[36m0:00:00\u001b[0m\n",
            "\u001b[?25hRequirement already satisfied: markupsafe>=1.1.1 in /usr/local/lib/python3.9/dist-packages (from apache-airflow) (2.1.2)\n",
            "Collecting apache-airflow-providers-imap\n",
            "  Downloading apache_airflow_providers_imap-3.1.1-py3-none-any.whl (17 kB)\n",
            "Requirement already satisfied: itsdangerous>=2.0 in /usr/local/lib/python3.9/dist-packages (from apache-airflow) (2.1.2)\n",
            "Collecting argcomplete>=1.10\n",
            "  Downloading argcomplete-3.0.5-py3-none-any.whl (40 kB)\n",
            "\u001b[2K     \u001b[90m━━━━━━━━━━━━━━━━━━━━━━━━━━━━━━━━━━━━━━━━\u001b[0m \u001b[32m40.2/40.2 KB\u001b[0m \u001b[31m4.9 MB/s\u001b[0m eta \u001b[36m0:00:00\u001b[0m\n",
            "\u001b[?25hCollecting mdit-py-plugins>=0.3.0\n",
            "  Downloading mdit_py_plugins-0.3.5-py3-none-any.whl (52 kB)\n",
            "\u001b[2K     \u001b[90m━━━━━━━━━━━━━━━━━━━━━━━━━━━━━━━━━━━━━━━━\u001b[0m \u001b[32m52.1/52.1 KB\u001b[0m \u001b[31m6.6 MB/s\u001b[0m eta \u001b[36m0:00:00\u001b[0m\n",
            "\u001b[?25hCollecting flask-caching>=1.5.0\n",
            "  Downloading Flask_Caching-2.0.2-py3-none-any.whl (28 kB)\n",
            "Collecting python-daemon>=3.0.0\n",
            "  Downloading python_daemon-3.0.1-py3-none-any.whl (31 kB)\n",
            "Collecting python-nvd3>=0.15.0\n",
            "  Downloading python-nvd3-0.15.0.tar.gz (31 kB)\n",
            "  Preparing metadata (setup.py) ... \u001b[?25l\u001b[?25hdone\n",
            "Collecting apache-airflow-providers-common-sql\n",
            "  Downloading apache_airflow_providers_common_sql-1.3.4-py3-none-any.whl (31 kB)\n",
            "Requirement already satisfied: markdown>=3.0 in /usr/local/lib/python3.9/dist-packages (from apache-airflow) (3.4.3)\n",
            "Collecting apache-airflow-providers-http\n",
            "  Downloading apache_airflow_providers_http-4.2.0-py3-none-any.whl (22 kB)\n",
            "Collecting cron-descriptor>=1.2.24\n",
            "  Downloading cron_descriptor-1.2.35.tar.gz (29 kB)\n",
            "  Preparing metadata (setup.py) ... \u001b[?25l\u001b[?25hdone\n",
            "Requirement already satisfied: python-slugify>=5.0 in /usr/local/lib/python3.9/dist-packages (from apache-airflow) (8.0.1)\n",
            "Requirement already satisfied: attrs>=22.1.0 in /usr/local/lib/python3.9/dist-packages (from apache-airflow) (22.2.0)\n",
            "Collecting pendulum>=2.0\n",
            "  Downloading pendulum-2.1.2-cp39-cp39-manylinux1_x86_64.whl (155 kB)\n",
            "\u001b[2K     \u001b[90m━━━━━━━━━━━━━━━━━━━━━━━━━━━━━━━━━━━━━━\u001b[0m \u001b[32m155.3/155.3 KB\u001b[0m \u001b[31m19.2 MB/s\u001b[0m eta \u001b[36m0:00:00\u001b[0m\n",
            "\u001b[?25hRequirement already satisfied: pluggy>=1.0 in /usr/local/lib/python3.9/dist-packages (from apache-airflow) (1.0.0)\n",
            "Collecting alembic<2.0,>=1.6.3\n",
            "  Downloading alembic-1.10.2-py3-none-any.whl (212 kB)\n",
            "\u001b[2K     \u001b[90m━━━━━━━━━━━━━━━━━━━━━━━━━━━━━━━━━━━━━━\u001b[0m \u001b[32m212.2/212.2 KB\u001b[0m \u001b[31m22.2 MB/s\u001b[0m eta \u001b[36m0:00:00\u001b[0m\n",
            "\u001b[?25hCollecting apache-airflow-providers-sqlite\n",
            "  Downloading apache_airflow_providers_sqlite-3.3.1-py3-none-any.whl (14 kB)\n",
            "Collecting unicodecsv>=0.14.1\n",
            "  Downloading unicodecsv-0.14.1.tar.gz (10 kB)\n",
            "  Preparing metadata (setup.py) ... \u001b[?25l\u001b[?25hdone\n",
            "Requirement already satisfied: flask<2.3,>=2.2 in /usr/local/lib/python3.9/dist-packages (from apache-airflow) (2.2.3)\n",
            "Collecting gunicorn>=20.1.0\n",
            "  Downloading gunicorn-20.1.0-py3-none-any.whl (79 kB)\n",
            "\u001b[2K     \u001b[90m━━━━━━━━━━━━━━━━━━━━━━━━━━━━━━━━━━━━━━━━\u001b[0m \u001b[32m79.5/79.5 KB\u001b[0m \u001b[31m10.3 MB/s\u001b[0m eta \u001b[36m0:00:00\u001b[0m\n",
            "\u001b[?25hRequirement already satisfied: cryptography>=0.9.3 in /usr/local/lib/python3.9/dist-packages (from apache-airflow) (40.0.1)\n",
            "Collecting connexion[flask]>=2.10.0\n",
            "  Downloading connexion-2.14.2-py2.py3-none-any.whl (95 kB)\n",
            "\u001b[2K     \u001b[90m━━━━━━━━━━━━━━━━━━━━━━━━━━━━━━━━━━━━━━━━\u001b[0m \u001b[32m95.1/95.1 KB\u001b[0m \u001b[31m13.2 MB/s\u001b[0m eta \u001b[36m0:00:00\u001b[0m\n",
            "\u001b[?25hRequirement already satisfied: psutil>=4.2.0 in /usr/local/lib/python3.9/dist-packages (from apache-airflow) (5.9.4)\n",
            "Requirement already satisfied: typing-extensions>=4.0.0 in /usr/local/lib/python3.9/dist-packages (from apache-airflow) (4.5.0)\n",
            "Collecting flask-appbuilder==4.1.4\n",
            "  Downloading Flask_AppBuilder-4.1.4-py3-none-any.whl (1.8 MB)\n",
            "\u001b[2K     \u001b[90m━━━━━━━━━━━━━━━━━━━━━━━━━━━━━━━━━━━━━━━━\u001b[0m \u001b[32m1.8/1.8 MB\u001b[0m \u001b[31m78.7 MB/s\u001b[0m eta \u001b[36m0:00:00\u001b[0m\n",
            "\u001b[?25hCollecting blinker\n",
            "  Downloading blinker-1.6-py3-none-any.whl (13 kB)\n",
            "Requirement already satisfied: jsonschema>=4.0.0 in /usr/local/lib/python3.9/dist-packages (from apache-airflow) (4.3.3)\n",
            "Requirement already satisfied: tenacity!=8.2.0,>=6.2.0 in /usr/local/lib/python3.9/dist-packages (from apache-airflow) (8.2.2)\n",
            "Requirement already satisfied: rich>=12.4.4 in /usr/local/lib/python3.9/dist-packages (from apache-airflow) (13.3.3)\n",
            "Collecting dill>=0.2.2\n",
            "  Downloading dill-0.3.6-py3-none-any.whl (110 kB)\n",
            "\u001b[2K     \u001b[90m━━━━━━━━━━━━━━━━━━━━━━━━━━━━━━━━━━━━━━\u001b[0m \u001b[32m110.5/110.5 KB\u001b[0m \u001b[31m15.2 MB/s\u001b[0m eta \u001b[36m0:00:00\u001b[0m\n",
            "\u001b[?25hCollecting marshmallow-oneofschema>=2.0.1\n",
            "  Downloading marshmallow_oneofschema-3.0.1-py2.py3-none-any.whl (5.8 kB)\n",
            "Requirement already satisfied: jinja2>=3.0.0 in /usr/local/lib/python3.9/dist-packages (from apache-airflow) (3.1.2)\n",
            "Collecting colorlog<5.0,>=4.0.2\n",
            "  Downloading colorlog-4.8.0-py2.py3-none-any.whl (10 kB)\n",
            "Collecting cattrs>=22.1.0\n",
            "  Downloading cattrs-22.2.0-py3-none-any.whl (35 kB)\n",
            "Collecting flask-session>=0.4.0\n",
            "  Downloading Flask_Session-0.4.0-py2.py3-none-any.whl (7.5 kB)\n",
            "Collecting flask-login>=0.6.2\n",
            "  Downloading Flask_Login-0.6.2-py3-none-any.whl (17 kB)\n",
            "Collecting pyjwt>=2.0.0\n",
            "  Downloading PyJWT-2.6.0-py3-none-any.whl (20 kB)\n",
            "Collecting httpx\n",
            "  Downloading httpx-0.23.3-py3-none-any.whl (71 kB)\n",
            "\u001b[2K     \u001b[90m━━━━━━━━━━━━━━━━━━━━━━━━━━━━━━━━━━━━━━━━\u001b[0m \u001b[32m71.5/71.5 KB\u001b[0m \u001b[31m8.8 MB/s\u001b[0m eta \u001b[36m0:00:00\u001b[0m\n",
            "\u001b[?25hCollecting lockfile>=0.12.2\n",
            "  Downloading lockfile-0.12.2-py2.py3-none-any.whl (13 kB)\n",
            "Collecting pathspec~=0.9.0\n",
            "  Downloading pathspec-0.9.0-py2.py3-none-any.whl (31 kB)\n",
            "Requirement already satisfied: pygments>=2.0.1 in /usr/local/lib/python3.9/dist-packages (from apache-airflow) (2.14.0)\n",
            "Collecting sqlalchemy-jsonfield>=1.0\n",
            "  Downloading SQLAlchemy_JSONField-1.0.1.post0-py3-none-any.whl (10 kB)\n",
            "Collecting apache-airflow-providers-ftp\n",
            "  Downloading apache_airflow_providers_ftp-3.3.1-py3-none-any.whl (19 kB)\n",
            "Requirement already satisfied: werkzeug>=2.0 in /usr/local/lib/python3.9/dist-packages (from apache-airflow) (2.2.3)\n",
            "Requirement already satisfied: markdown-it-py>=2.1.0 in /usr/local/lib/python3.9/dist-packages (from apache-airflow) (2.2.0)\n",
            "Collecting croniter>=0.3.17\n",
            "  Downloading croniter-1.3.8-py2.py3-none-any.whl (18 kB)\n",
            "Collecting flask-wtf>=0.15\n",
            "  Downloading Flask_WTF-1.1.1-py3-none-any.whl (12 kB)\n",
            "Requirement already satisfied: sqlalchemy<2.0,>=1.4 in /usr/local/lib/python3.9/dist-packages (from apache-airflow) (1.4.47)\n",
            "Collecting deprecated>=1.2.13\n",
            "  Downloading Deprecated-1.2.13-py2.py3-none-any.whl (9.6 kB)\n",
            "Collecting linkify-it-py>=2.0.0\n",
            "  Downloading linkify_it_py-2.0.0-py3-none-any.whl (19 kB)\n",
            "Collecting marshmallow-sqlalchemy<0.27.0,>=0.22.0\n",
            "  Downloading marshmallow_sqlalchemy-0.26.1-py2.py3-none-any.whl (15 kB)\n",
            "Requirement already satisfied: click<9,>=8 in /usr/local/lib/python3.9/dist-packages (from flask-appbuilder==4.1.4->apache-airflow) (8.1.3)\n",
            "Collecting Flask-JWT-Extended<5.0.0,>=4.0.0\n",
            "  Downloading Flask_JWT_Extended-4.4.4-py2.py3-none-any.whl (22 kB)\n",
            "Collecting prison<1.0.0,>=0.2.1\n",
            "  Downloading prison-0.2.1-py2.py3-none-any.whl (5.8 kB)\n",
            "Collecting sqlalchemy-utils<1,>=0.32.21\n",
            "  Downloading SQLAlchemy_Utils-0.40.0-py3-none-any.whl (92 kB)\n",
            "\u001b[2K     \u001b[90m━━━━━━━━━━━━━━━━━━━━━━━━━━━━━━━━━━━━━━━━\u001b[0m \u001b[32m92.5/92.5 KB\u001b[0m \u001b[31m10.8 MB/s\u001b[0m eta \u001b[36m0:00:00\u001b[0m\n",
            "\u001b[?25hCollecting email-validator<2,>=1.0.5\n",
            "  Downloading email_validator-1.3.1-py2.py3-none-any.whl (22 kB)\n",
            "Collecting marshmallow<4,>=3\n",
            "  Downloading marshmallow-3.19.0-py3-none-any.whl (49 kB)\n",
            "\u001b[2K     \u001b[90m━━━━━━━━━━━━━━━━━━━━━━━━━━━━━━━━━━━━━━━━\u001b[0m \u001b[32m49.1/49.1 KB\u001b[0m \u001b[31m5.5 MB/s\u001b[0m eta \u001b[36m0:00:00\u001b[0m\n",
            "\u001b[?25hCollecting marshmallow-enum<2,>=1.5.1\n",
            "  Downloading marshmallow_enum-1.5.1-py2.py3-none-any.whl (4.2 kB)\n",
            "Collecting Flask-SQLAlchemy<3,>=2.4\n",
            "  Downloading Flask_SQLAlchemy-2.5.1-py2.py3-none-any.whl (17 kB)\n",
            "Collecting Flask-Babel<3,>=1\n",
            "  Downloading Flask_Babel-2.0.0-py3-none-any.whl (9.3 kB)\n",
            "Collecting colorama<1,>=0.3.9\n",
            "  Downloading colorama-0.4.6-py2.py3-none-any.whl (25 kB)\n",
            "Collecting WTForms<4\n",
            "  Downloading WTForms-3.0.1-py3-none-any.whl (136 kB)\n",
            "\u001b[2K     \u001b[90m━━━━━━━━━━━━━━━━━━━━━━━━━━━━━━━━━━━━━━\u001b[0m \u001b[32m136.5/136.5 KB\u001b[0m \u001b[31m15.3 MB/s\u001b[0m eta \u001b[36m0:00:00\u001b[0m\n",
            "\u001b[?25hCollecting apispec[yaml]<4,>=3.3\n",
            "  Downloading apispec-3.3.2-py2.py3-none-any.whl (27 kB)\n",
            "Collecting Mako\n",
            "  Downloading Mako-1.2.4-py3-none-any.whl (78 kB)\n",
            "\u001b[2K     \u001b[90m━━━━━━━━━━━━━━━━━━━━━━━━━━━━━━━━━━━━━━━━\u001b[0m \u001b[32m78.7/78.7 KB\u001b[0m \u001b[31m8.5 MB/s\u001b[0m eta \u001b[36m0:00:00\u001b[0m\n",
            "\u001b[?25hRequirement already satisfied: exceptiongroup in /usr/local/lib/python3.9/dist-packages (from cattrs>=22.1.0->apache-airflow) (1.1.1)\n",
            "Requirement already satisfied: PyYAML<7,>=5.1 in /usr/local/lib/python3.9/dist-packages (from connexion[flask]>=2.10.0->apache-airflow) (6.0)\n",
            "Collecting clickclick<21,>=1.2\n",
            "  Downloading clickclick-20.10.2-py2.py3-none-any.whl (7.4 kB)\n",
            "Requirement already satisfied: requests<3,>=2.9.1 in /usr/local/lib/python3.9/dist-packages (from connexion[flask]>=2.10.0->apache-airflow) (2.27.1)\n",
            "Collecting inflection<0.6,>=0.3.1\n",
            "  Downloading inflection-0.5.1-py2.py3-none-any.whl (9.5 kB)\n",
            "Requirement already satisfied: cffi>=1.12 in /usr/local/lib/python3.9/dist-packages (from cryptography>=0.9.3->apache-airflow) (1.15.1)\n",
            "Requirement already satisfied: wrapt<2,>=1.10 in /usr/local/lib/python3.9/dist-packages (from deprecated>=1.2.13->apache-airflow) (1.14.1)\n",
            "Requirement already satisfied: importlib-metadata>=3.6.0 in /usr/local/lib/python3.9/dist-packages (from flask<2.3,>=2.2->apache-airflow) (6.1.0)\n",
            "Collecting cachelib<0.10.0,>=0.9.0\n",
            "  Downloading cachelib-0.9.0-py3-none-any.whl (15 kB)\n",
            "Requirement already satisfied: setuptools>=3.0 in /usr/local/lib/python3.9/dist-packages (from gunicorn>=20.1.0->apache-airflow) (67.6.1)\n",
            "Requirement already satisfied: pyrsistent!=0.17.0,!=0.17.1,!=0.17.2,>=0.14.0 in /usr/local/lib/python3.9/dist-packages (from jsonschema>=4.0.0->apache-airflow) (0.19.3)\n",
            "Collecting uc-micro-py\n",
            "  Downloading uc_micro_py-1.0.1-py3-none-any.whl (6.2 kB)\n",
            "Requirement already satisfied: mdurl~=0.1 in /usr/local/lib/python3.9/dist-packages (from markdown-it-py>=2.1.0->apache-airflow) (0.1.2)\n",
            "Collecting pytzdata>=2020.1\n",
            "  Downloading pytzdata-2020.1-py2.py3-none-any.whl (489 kB)\n",
            "\u001b[2K     \u001b[90m━━━━━━━━━━━━━━━━━━━━━━━━━━━━━━━━━━━━━━\u001b[0m \u001b[32m490.0/490.0 KB\u001b[0m \u001b[31m39.8 MB/s\u001b[0m eta \u001b[36m0:00:00\u001b[0m\n",
            "\u001b[?25hRequirement already satisfied: docutils in /usr/local/lib/python3.9/dist-packages (from python-daemon>=3.0.0->apache-airflow) (0.16)\n",
            "Requirement already satisfied: six>=1.5 in /usr/local/lib/python3.9/dist-packages (from python-dateutil>=2.3->apache-airflow) (1.16.0)\n",
            "Requirement already satisfied: text-unidecode>=1.3 in /usr/local/lib/python3.9/dist-packages (from python-slugify>=5.0->apache-airflow) (1.3)\n",
            "Requirement already satisfied: greenlet!=0.4.17 in /usr/local/lib/python3.9/dist-packages (from sqlalchemy<2.0,>=1.4->apache-airflow) (2.0.2)\n",
            "Requirement already satisfied: sqlparse>=0.4.2 in /usr/local/lib/python3.9/dist-packages (from apache-airflow-providers-common-sql->apache-airflow) (0.4.3)\n",
            "Collecting requests-toolbelt\n",
            "  Downloading requests_toolbelt-0.10.1-py2.py3-none-any.whl (54 kB)\n",
            "\u001b[2K     \u001b[90m━━━━━━━━━━━━━━━━━━━━━━━━━━━━━━━━━━━━━━━━\u001b[0m \u001b[32m54.5/54.5 KB\u001b[0m \u001b[31m7.1 MB/s\u001b[0m eta \u001b[36m0:00:00\u001b[0m\n",
            "\u001b[?25hCollecting asgiref\n",
            "  Downloading asgiref-3.6.0-py3-none-any.whl (23 kB)\n",
            "Collecting aiohttp\n",
            "  Downloading aiohttp-3.8.4-cp39-cp39-manylinux_2_17_x86_64.manylinux2014_x86_64.whl (1.0 MB)\n",
            "\u001b[2K     \u001b[90m━━━━━━━━━━━━━━━━━━━━━━━━━━━━━━━━━━━━━━━━\u001b[0m \u001b[32m1.0/1.0 MB\u001b[0m \u001b[31m66.8 MB/s\u001b[0m eta \u001b[36m0:00:00\u001b[0m\n",
            "\u001b[?25hCollecting rfc3986[idna2008]<2,>=1.3\n",
            "  Downloading rfc3986-1.5.0-py2.py3-none-any.whl (31 kB)\n",
            "Collecting sniffio\n",
            "  Downloading sniffio-1.3.0-py3-none-any.whl (10 kB)\n",
            "Collecting httpcore<0.17.0,>=0.15.0\n",
            "  Downloading httpcore-0.16.3-py3-none-any.whl (69 kB)\n",
            "\u001b[2K     \u001b[90m━━━━━━━━━━━━━━━━━━━━━━━━━━━━━━━━━━━━━━━━\u001b[0m \u001b[32m69.6/69.6 KB\u001b[0m \u001b[31m8.2 MB/s\u001b[0m eta \u001b[36m0:00:00\u001b[0m\n",
            "\u001b[?25hRequirement already satisfied: certifi in /usr/local/lib/python3.9/dist-packages (from httpx->apache-airflow) (2022.12.7)\n",
            "Requirement already satisfied: pycparser in /usr/local/lib/python3.9/dist-packages (from cffi>=1.12->cryptography>=0.9.3->apache-airflow) (2.21)\n",
            "Collecting dnspython>=1.15.0\n",
            "  Downloading dnspython-2.3.0-py3-none-any.whl (283 kB)\n",
            "\u001b[2K     \u001b[90m━━━━━━━━━━━━━━━━━━━━━━━━━━━━━━━━━━━━━━\u001b[0m \u001b[32m283.7/283.7 KB\u001b[0m \u001b[31m23.9 MB/s\u001b[0m eta \u001b[36m0:00:00\u001b[0m\n",
            "\u001b[?25hRequirement already satisfied: idna>=2.0.0 in /usr/local/lib/python3.9/dist-packages (from email-validator<2,>=1.0.5->flask-appbuilder==4.1.4->apache-airflow) (3.4)\n",
            "Requirement already satisfied: Babel>=2.3 in /usr/local/lib/python3.9/dist-packages (from Flask-Babel<3,>=1->flask-appbuilder==4.1.4->apache-airflow) (2.12.1)\n",
            "Requirement already satisfied: pytz in /usr/local/lib/python3.9/dist-packages (from Flask-Babel<3,>=1->flask-appbuilder==4.1.4->apache-airflow) (2022.7.1)\n",
            "Collecting anyio<5.0,>=3.0\n",
            "  Downloading anyio-3.6.2-py3-none-any.whl (80 kB)\n",
            "\u001b[2K     \u001b[90m━━━━━━━━━━━━━━━━━━━━━━━━━━━━━━━━━━━━━━━━\u001b[0m \u001b[32m80.6/80.6 KB\u001b[0m \u001b[31m8.5 MB/s\u001b[0m eta \u001b[36m0:00:00\u001b[0m\n",
            "\u001b[?25hCollecting h11<0.15,>=0.13\n",
            "  Downloading h11-0.14.0-py3-none-any.whl (58 kB)\n",
            "\u001b[2K     \u001b[90m━━━━━━━━━━━━━━━━━━━━━━━━━━━━━━━━━━━━━━━━\u001b[0m \u001b[32m58.3/58.3 KB\u001b[0m \u001b[31m7.6 MB/s\u001b[0m eta \u001b[36m0:00:00\u001b[0m\n",
            "\u001b[?25hRequirement already satisfied: zipp>=0.5 in /usr/local/lib/python3.9/dist-packages (from importlib-metadata>=3.6.0->flask<2.3,>=2.2->apache-airflow) (3.15.0)\n",
            "Requirement already satisfied: urllib3<1.27,>=1.21.1 in /usr/local/lib/python3.9/dist-packages (from requests<3,>=2.9.1->connexion[flask]>=2.10.0->apache-airflow) (1.26.15)\n",
            "Requirement already satisfied: charset-normalizer~=2.0.0 in /usr/local/lib/python3.9/dist-packages (from requests<3,>=2.9.1->connexion[flask]>=2.10.0->apache-airflow) (2.0.12)\n",
            "Collecting frozenlist>=1.1.1\n",
            "  Downloading frozenlist-1.3.3-cp39-cp39-manylinux_2_5_x86_64.manylinux1_x86_64.manylinux_2_17_x86_64.manylinux2014_x86_64.whl (158 kB)\n",
            "\u001b[2K     \u001b[90m━━━━━━━━━━━━━━━━━━━━━━━━━━━━━━━━━━━━━━\u001b[0m \u001b[32m158.8/158.8 KB\u001b[0m \u001b[31m17.3 MB/s\u001b[0m eta \u001b[36m0:00:00\u001b[0m\n",
            "\u001b[?25hCollecting multidict<7.0,>=4.5\n",
            "  Downloading multidict-6.0.4-cp39-cp39-manylinux_2_17_x86_64.manylinux2014_x86_64.whl (114 kB)\n",
            "\u001b[2K     \u001b[90m━━━━━━━━━━━━━━━━━━━━━━━━━━━━━━━━━━━━━━━\u001b[0m \u001b[32m114.2/114.2 KB\u001b[0m \u001b[31m8.9 MB/s\u001b[0m eta \u001b[36m0:00:00\u001b[0m\n",
            "\u001b[?25hCollecting async-timeout<5.0,>=4.0.0a3\n",
            "  Downloading async_timeout-4.0.2-py3-none-any.whl (5.8 kB)\n",
            "Collecting aiosignal>=1.1.2\n",
            "  Downloading aiosignal-1.3.1-py3-none-any.whl (7.6 kB)\n",
            "Collecting yarl<2.0,>=1.0\n",
            "  Downloading yarl-1.8.2-cp39-cp39-manylinux_2_17_x86_64.manylinux2014_x86_64.whl (264 kB)\n",
            "\u001b[2K     \u001b[90m━━━━━━━━━━━━━━━━━━━━━━━━━━━━━━━━━━━━━━\u001b[0m \u001b[32m264.6/264.6 KB\u001b[0m \u001b[31m11.7 MB/s\u001b[0m eta \u001b[36m0:00:00\u001b[0m\n",
            "\u001b[?25hBuilding wheels for collected packages: cron-descriptor, python-nvd3, unicodecsv\n",
            "  Building wheel for cron-descriptor (setup.py) ... \u001b[?25l\u001b[?25hdone\n",
            "  Created wheel for cron-descriptor: filename=cron_descriptor-1.2.35-py3-none-any.whl size=48440 sha256=4883e4a5741c217cf0992d91d5a1e4efac21b1752295b0f0492204ffa719e29e\n",
            "  Stored in directory: /root/.cache/pip/wheels/b6/c5/95/ecfd3eb95909eadd47c5ad25c8815c348d07bc248e12d3fd97\n",
            "  Building wheel for python-nvd3 (setup.py) ... \u001b[?25l\u001b[?25hdone\n",
            "  Created wheel for python-nvd3: filename=python_nvd3-0.15.0-py3-none-any.whl size=38163 sha256=0bb25c5d4e8be4066e884ada68807261c06fdb98fdac6876a3cb41e8ad918f41\n",
            "  Stored in directory: /root/.cache/pip/wheels/60/e8/21/19a3dcfe90e8895952857d42152663fafc5a90d87d3dfe5f58\n",
            "  Building wheel for unicodecsv (setup.py) ... \u001b[?25l\u001b[?25hdone\n",
            "  Created wheel for unicodecsv: filename=unicodecsv-0.14.1-py3-none-any.whl size=10766 sha256=bfacf18a04a80ef0424b0f3487f01697b64b2945a09768b4c760ef66fcdda3ad\n",
            "  Stored in directory: /root/.cache/pip/wheels/d8/c8/27/b237d3378d5c9ed25c2c63d9af1b3d5ccb99934f3dd030de87\n",
            "Successfully built cron-descriptor python-nvd3 unicodecsv\n",
            "Installing collected packages: unicodecsv, rfc3986, lockfile, cron-descriptor, colorlog, WTForms, uc-micro-py, sniffio, setproctitle, rfc3339-validator, pytzdata, python-daemon, pyjwt, prison, pathspec, multidict, marshmallow, Mako, lazy-object-proxy, inflection, h11, gunicorn, frozenlist, dnspython, dill, deprecated, configupdater, colorama, clickclick, cattrs, cachelib, blinker, async-timeout, asgiref, argcomplete, apispec, apache-airflow-providers-imap, apache-airflow-providers-ftp, apache-airflow-providers-common-sql, yarl, sqlalchemy-utils, sqlalchemy-jsonfield, requests-toolbelt, python-nvd3, pendulum, mdit-py-plugins, marshmallow-sqlalchemy, marshmallow-oneofschema, marshmallow-enum, linkify-it-py, email-validator, croniter, apache-airflow-providers-sqlite, anyio, alembic, aiosignal, httpcore, flask-wtf, Flask-SQLAlchemy, flask-session, flask-login, Flask-JWT-Extended, flask-caching, Flask-Babel, connexion, aiohttp, httpx, flask-appbuilder, apache-airflow-providers-http, apache-airflow\n",
            "Successfully installed Flask-Babel-2.0.0 Flask-JWT-Extended-4.4.4 Flask-SQLAlchemy-2.5.1 Mako-1.2.4 WTForms-3.0.1 aiohttp-3.8.4 aiosignal-1.3.1 alembic-1.10.2 anyio-3.6.2 apache-airflow-2.5.3 apache-airflow-providers-common-sql-1.3.4 apache-airflow-providers-ftp-3.3.1 apache-airflow-providers-http-4.2.0 apache-airflow-providers-imap-3.1.1 apache-airflow-providers-sqlite-3.3.1 apispec-3.3.2 argcomplete-3.0.5 asgiref-3.6.0 async-timeout-4.0.2 blinker-1.6 cachelib-0.9.0 cattrs-22.2.0 clickclick-20.10.2 colorama-0.4.6 colorlog-4.8.0 configupdater-3.1.1 connexion-2.14.2 cron-descriptor-1.2.35 croniter-1.3.8 deprecated-1.2.13 dill-0.3.6 dnspython-2.3.0 email-validator-1.3.1 flask-appbuilder-4.1.4 flask-caching-2.0.2 flask-login-0.6.2 flask-session-0.4.0 flask-wtf-1.1.1 frozenlist-1.3.3 gunicorn-20.1.0 h11-0.14.0 httpcore-0.16.3 httpx-0.23.3 inflection-0.5.1 lazy-object-proxy-1.9.0 linkify-it-py-2.0.0 lockfile-0.12.2 marshmallow-3.19.0 marshmallow-enum-1.5.1 marshmallow-oneofschema-3.0.1 marshmallow-sqlalchemy-0.26.1 mdit-py-plugins-0.3.5 multidict-6.0.4 pathspec-0.9.0 pendulum-2.1.2 prison-0.2.1 pyjwt-2.6.0 python-daemon-3.0.1 python-nvd3-0.15.0 pytzdata-2020.1 requests-toolbelt-0.10.1 rfc3339-validator-0.1.4 rfc3986-1.5.0 setproctitle-1.3.2 sniffio-1.3.0 sqlalchemy-jsonfield-1.0.1.post0 sqlalchemy-utils-0.40.0 uc-micro-py-1.0.1 unicodecsv-0.14.1 yarl-1.8.2\n"
          ]
        }
      ]
    },
    {
      "cell_type": "code",
      "source": [
        "from airflow.operators.python_operator import PythonOperator"
      ],
      "metadata": {
        "colab": {
          "base_uri": "https://localhost:8080/",
          "height": 50
        },
        "id": "fpKaDHLzEtf4",
        "outputId": "811d97aa-9ce8-4719-8802-57504293b80c"
      },
      "execution_count": 14,
      "outputs": [
        {
          "output_type": "display_data",
          "data": {
            "text/plain": [
              "\u001b[1;33m<\u001b[0m\u001b[1;33mipython-input-\u001b[0m\u001b[1;33m14\u001b[0m\u001b[1;33m-10c29da289db\u001b[0m\u001b[1;33m>\u001b[0m\u001b[1;33m:\u001b[0m\u001b[1;33m1\u001b[0m\u001b[1;33m DeprecationWarning\u001b[0m\u001b[33m: The `airflow.operators.python_operator.PythonOperator` class is deprecated. Please use `\u001b[0m\u001b[33m'airflow.operators.python.PythonOperator'\u001b[0m\u001b[33m`.\u001b[0m\n"
            ],
            "text/html": [
              "<pre style=\"white-space:pre;overflow-x:auto;line-height:normal;font-family:Menlo,'DejaVu Sans Mono',consolas,'Courier New',monospace\"><span style=\"color: #808000; text-decoration-color: #808000; font-weight: bold\">&lt;ipython-input-</span><span style=\"color: #808000; text-decoration-color: #808000; font-weight: bold\">14</span><span style=\"color: #808000; text-decoration-color: #808000; font-weight: bold\">-10c29da289db&gt;:</span><span style=\"color: #808000; text-decoration-color: #808000; font-weight: bold\">1</span><span style=\"color: #808000; text-decoration-color: #808000; font-weight: bold\"> DeprecationWarning</span><span style=\"color: #808000; text-decoration-color: #808000\">: The `airflow.operators.python_operator.PythonOperator` class is deprecated. Please use `</span><span style=\"color: #808000; text-decoration-color: #808000\">'airflow.operators.python.PythonOperator'</span><span style=\"color: #808000; text-decoration-color: #808000\">`.</span>\n",
              "</pre>\n"
            ]
          },
          "metadata": {}
        }
      ]
    },
    {
      "cell_type": "code",
      "source": [
        "from airflow import DAG"
      ],
      "metadata": {
        "id": "CzZVWP67Exwv"
      },
      "execution_count": 15,
      "outputs": []
    },
    {
      "cell_type": "code",
      "source": [
        "from datetime import datetime, timedelta"
      ],
      "metadata": {
        "id": "ZYED5hR2IXv1"
      },
      "execution_count": 16,
      "outputs": []
    },
    {
      "cell_type": "code",
      "source": [
        "default_args = dict(\n",
        "    owner='Telcom Companies',\n",
        "    depends_on_past=False,\n",
        "    start_date=datetime(2020, 1, 1),\n",
        "    email=['tlc@companies.com'],\n",
        "    email_on_failure=True,\n",
        "    email_on_retry=False,\n",
        "    retries=2,\n",
        "    retry_delay=timedelta(minutes=5)\n",
        ")\n",
        "\n",
        "\n",
        "dag = DAG(\n",
        "    'cdr_pipeline',\n",
        "    default_args=default_args,\n",
        "    description='Telcom ETL pipeline',\n",
        "    schedule_interval=timedelta(days=1),\n",
        ")\n"
      ],
      "metadata": {
        "colab": {
          "base_uri": "https://localhost:8080/",
          "height": 50
        },
        "id": "u41MaZlzGS9h",
        "outputId": "6f6d5cfd-d5ac-4501-887d-432006d0ac0e"
      },
      "execution_count": 17,
      "outputs": [
        {
          "output_type": "display_data",
          "data": {
            "text/plain": [
              "\u001b[1;33m<\u001b[0m\u001b[1;33mipython-input-\u001b[0m\u001b[1;33m17\u001b[0m\u001b[1;33m-0b7a39e21d3f\u001b[0m\u001b[1;33m>\u001b[0m\u001b[1;33m:\u001b[0m\u001b[1;33m13\u001b[0m\u001b[1;33m RemovedInAirflow3Warning\u001b[0m\u001b[33m: Param `schedule_interval` is deprecated and will be removed in a future release. Please use `schedule` instead.\u001b[0m\n"
            ],
            "text/html": [
              "<pre style=\"white-space:pre;overflow-x:auto;line-height:normal;font-family:Menlo,'DejaVu Sans Mono',consolas,'Courier New',monospace\"><span style=\"color: #808000; text-decoration-color: #808000; font-weight: bold\">&lt;ipython-input-</span><span style=\"color: #808000; text-decoration-color: #808000; font-weight: bold\">17</span><span style=\"color: #808000; text-decoration-color: #808000; font-weight: bold\">-0b7a39e21d3f&gt;:</span><span style=\"color: #808000; text-decoration-color: #808000; font-weight: bold\">13</span><span style=\"color: #808000; text-decoration-color: #808000; font-weight: bold\"> RemovedInAirflow3Warning</span><span style=\"color: #808000; text-decoration-color: #808000\">: Param `schedule_interval` is deprecated and will be removed in a future release. Please use `schedule` instead.</span>\n",
              "</pre>\n"
            ]
          },
          "metadata": {}
        }
      ]
    },
    {
      "cell_type": "code",
      "source": [
        "# Test the pipeline by comparing the output with the expected output\n",
        "expected_df = pd.read_csv('/content/merged_dataset.csv')\n",
        "if df_merged2.equals(expected_df):\n",
        "    print(\"Test passed. The dataframes are equal.\")\n",
        "else:\n",
        "    print(\"Test failed. The dataframes are not equal.\")\n"
      ],
      "metadata": {
        "id": "hbVCmZ1Ojgyu",
        "colab": {
          "base_uri": "https://localhost:8080/"
        },
        "outputId": "c62daed7-18dc-4121-8c3d-cb6c1aa47112"
      },
      "execution_count": 18,
      "outputs": [
        {
          "output_type": "stream",
          "name": "stdout",
          "text": [
            "Test failed. The dataframes are not equal.\n"
          ]
        }
      ]
    }
  ]
}